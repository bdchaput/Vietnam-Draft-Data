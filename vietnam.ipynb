{
 "cells": [
  {
   "attachments": {},
   "cell_type": "markdown",
   "metadata": {},
   "source": [
    "# Visualizing the Vietnam Draft"
   ]
  },
  {
   "attachments": {},
   "cell_type": "markdown",
   "metadata": {},
   "source": [
    "In 1969, 14 years into the Vietnam war, the American government performed the first draft lottery. The lottery was broadcast live on December 1, 1969. A container was filled with 366 balls, each containing a possible birthdate. Each date was then assigned a number based on the order in which they were drawn. Any eligible man (born between 1944 and 1950) who's birthdate was drawn within the first 195 draws was drafted into military service."
   ]
  },
  {
   "attachments": {},
   "cell_type": "markdown",
   "metadata": {},
   "source": [
    "Over the next few years similar drafts were conducted using the same method. However, these lotteries drafted less men. In 1970 men who were born in 1951 and whose birthdate was pulled in the first 125 were drafted. In 1971 men who were born in 1952 and whose birthdate was pulled within the first 95 draws were drafted. In 1972 numbers were drawn in preparation for another draft, however no new drafts were made."
   ]
  },
  {
   "attachments": {},
   "cell_type": "markdown",
   "metadata": {},
   "source": [
    "Around the time of the first draft there was controversy that the lottery had not been properly randomized. The vizualizations below demonstrate the trends present in the 1969 draft lottery data that prompted this controversy."
   ]
  },
  {
   "attachments": {},
   "cell_type": "markdown",
   "metadata": {},
   "source": [
    "The following data was taken from https://www.randomservices.org/random/data/Draft.html."
   ]
  },
  {
   "cell_type": "code",
   "execution_count": 2,
   "metadata": {},
   "outputs": [],
   "source": [
    "import pandas as pd\n",
    "import numpy as np\n",
    "import seaborn as sb\n",
    "import matplotlib.pyplot as plt\n",
    "sb.color_palette('dark')\n",
    "\n",
    "draft_data = pd.read_csv('draft_data.csv')"
   ]
  },
  {
   "attachments": {},
   "cell_type": "markdown",
   "metadata": {},
   "source": [
    "Below is a table representing the data I will be working with. Dates are displayed through seperate month and day columns. Each draft is displayed as follows.\n",
    "\n",
    "- N69: the 1969 draft lottery\n",
    "- N70: the 1970 draft lottery\n",
    "- N71: the 1971 draft lottery\n",
    "- N72: the 1972 draft lottery\n",
    "\n",
    "Note that the number represents the order in which the date was drawn. This means the lower the numbers represent dates that were drafted. In 1969 any number under 195 represents a drafted birth date."
   ]
  },
  {
   "cell_type": "code",
   "execution_count": 3,
   "metadata": {},
   "outputs": [
    {
     "data": {
      "text/html": [
       "<div>\n",
       "<style scoped>\n",
       "    .dataframe tbody tr th:only-of-type {\n",
       "        vertical-align: middle;\n",
       "    }\n",
       "\n",
       "    .dataframe tbody tr th {\n",
       "        vertical-align: top;\n",
       "    }\n",
       "\n",
       "    .dataframe thead th {\n",
       "        text-align: right;\n",
       "    }\n",
       "</style>\n",
       "<table border=\"1\" class=\"dataframe\">\n",
       "  <thead>\n",
       "    <tr style=\"text-align: right;\">\n",
       "      <th></th>\n",
       "      <th>Month</th>\n",
       "      <th>Day</th>\n",
       "      <th>N69</th>\n",
       "      <th>N70</th>\n",
       "      <th>N71</th>\n",
       "      <th>N72</th>\n",
       "    </tr>\n",
       "  </thead>\n",
       "  <tbody>\n",
       "    <tr>\n",
       "      <th>0</th>\n",
       "      <td>1</td>\n",
       "      <td>1</td>\n",
       "      <td>305</td>\n",
       "      <td>133</td>\n",
       "      <td>207</td>\n",
       "      <td>150</td>\n",
       "    </tr>\n",
       "    <tr>\n",
       "      <th>1</th>\n",
       "      <td>1</td>\n",
       "      <td>2</td>\n",
       "      <td>159</td>\n",
       "      <td>195</td>\n",
       "      <td>225</td>\n",
       "      <td>328</td>\n",
       "    </tr>\n",
       "    <tr>\n",
       "      <th>2</th>\n",
       "      <td>1</td>\n",
       "      <td>3</td>\n",
       "      <td>251</td>\n",
       "      <td>336</td>\n",
       "      <td>246</td>\n",
       "      <td>42</td>\n",
       "    </tr>\n",
       "    <tr>\n",
       "      <th>3</th>\n",
       "      <td>1</td>\n",
       "      <td>4</td>\n",
       "      <td>215</td>\n",
       "      <td>99</td>\n",
       "      <td>264</td>\n",
       "      <td>28</td>\n",
       "    </tr>\n",
       "    <tr>\n",
       "      <th>4</th>\n",
       "      <td>1</td>\n",
       "      <td>5</td>\n",
       "      <td>101</td>\n",
       "      <td>33</td>\n",
       "      <td>265</td>\n",
       "      <td>338</td>\n",
       "    </tr>\n",
       "    <tr>\n",
       "      <th>...</th>\n",
       "      <td>...</td>\n",
       "      <td>...</td>\n",
       "      <td>...</td>\n",
       "      <td>...</td>\n",
       "      <td>...</td>\n",
       "      <td>...</td>\n",
       "    </tr>\n",
       "    <tr>\n",
       "      <th>361</th>\n",
       "      <td>12</td>\n",
       "      <td>27</td>\n",
       "      <td>78</td>\n",
       "      <td>239</td>\n",
       "      <td>290</td>\n",
       "      <td>194</td>\n",
       "    </tr>\n",
       "    <tr>\n",
       "      <th>362</th>\n",
       "      <td>12</td>\n",
       "      <td>28</td>\n",
       "      <td>123</td>\n",
       "      <td>128</td>\n",
       "      <td>174</td>\n",
       "      <td>156</td>\n",
       "    </tr>\n",
       "    <tr>\n",
       "      <th>363</th>\n",
       "      <td>12</td>\n",
       "      <td>29</td>\n",
       "      <td>16</td>\n",
       "      <td>145</td>\n",
       "      <td>101</td>\n",
       "      <td>175</td>\n",
       "    </tr>\n",
       "    <tr>\n",
       "      <th>364</th>\n",
       "      <td>12</td>\n",
       "      <td>30</td>\n",
       "      <td>3</td>\n",
       "      <td>192</td>\n",
       "      <td>167</td>\n",
       "      <td>281</td>\n",
       "    </tr>\n",
       "    <tr>\n",
       "      <th>365</th>\n",
       "      <td>12</td>\n",
       "      <td>31</td>\n",
       "      <td>100</td>\n",
       "      <td>126</td>\n",
       "      <td>322</td>\n",
       "      <td>164</td>\n",
       "    </tr>\n",
       "  </tbody>\n",
       "</table>\n",
       "<p>366 rows × 6 columns</p>\n",
       "</div>"
      ],
      "text/plain": [
       "     Month  Day  N69  N70  N71  N72\n",
       "0        1    1  305  133  207  150\n",
       "1        1    2  159  195  225  328\n",
       "2        1    3  251  336  246   42\n",
       "3        1    4  215   99  264   28\n",
       "4        1    5  101   33  265  338\n",
       "..     ...  ...  ...  ...  ...  ...\n",
       "361     12   27   78  239  290  194\n",
       "362     12   28  123  128  174  156\n",
       "363     12   29   16  145  101  175\n",
       "364     12   30    3  192  167  281\n",
       "365     12   31  100  126  322  164\n",
       "\n",
       "[366 rows x 6 columns]"
      ]
     },
     "metadata": {},
     "output_type": "display_data"
    }
   ],
   "source": [
    "display(draft_data)"
   ]
  },
  {
   "cell_type": "code",
   "execution_count": 4,
   "metadata": {},
   "outputs": [
    {
     "name": "stdout",
     "output_type": "stream",
     "text": [
      "<class 'pandas.core.frame.DataFrame'>\n",
      "RangeIndex: 366 entries, 0 to 365\n",
      "Data columns (total 6 columns):\n",
      " #   Column  Non-Null Count  Dtype\n",
      "---  ------  --------------  -----\n",
      " 0   Month   366 non-null    int64\n",
      " 1   Day     366 non-null    int64\n",
      " 2   N69     366 non-null    int64\n",
      " 3   N70     366 non-null    int64\n",
      " 4   N71     366 non-null    int64\n",
      " 5   N72     366 non-null    int64\n",
      "dtypes: int64(6)\n",
      "memory usage: 17.3 KB\n"
     ]
    }
   ],
   "source": [
    "draft_data.info()"
   ]
  },
  {
   "attachments": {},
   "cell_type": "markdown",
   "metadata": {},
   "source": [
    "I am mostly concerned with the 1969 draft so I will create a subset of my dataset with only the month, day and 1969 lottery results. I will also create a subset that contains only drafted dates. Any number over 195 will not be inlcuded."
   ]
  },
  {
   "cell_type": "code",
   "execution_count": 5,
   "metadata": {},
   "outputs": [],
   "source": [
    "d1=['Month','Day','N69']\n",
    "draft1=draft_data[d1]\n",
    "drafted_only=draft_data[draft_data['N69'] <= 195]\n",
    "d1_drafted_only=drafted_only[d1]"
   ]
  },
  {
   "attachments": {},
   "cell_type": "markdown",
   "metadata": {},
   "source": [
    "Here is the full dataset with only month, date and 1969 results:"
   ]
  },
  {
   "cell_type": "code",
   "execution_count": 34,
   "metadata": {},
   "outputs": [
    {
     "name": "stdout",
     "output_type": "stream",
     "text": [
      "     Month  Day  N69\n",
      "0        1    1  305\n",
      "1        1    2  159\n",
      "2        1    3  251\n",
      "3        1    4  215\n",
      "4        1    5  101\n",
      "..     ...  ...  ...\n",
      "361     12   27   78\n",
      "362     12   28  123\n",
      "363     12   29   16\n",
      "364     12   30    3\n",
      "365     12   31  100\n",
      "\n",
      "[366 rows x 3 columns]\n"
     ]
    }
   ],
   "source": [
    "print(draft1)"
   ]
  },
  {
   "attachments": {},
   "cell_type": "markdown",
   "metadata": {},
   "source": [
    "And here is the same data but with only drafted numbers included:"
   ]
  },
  {
   "cell_type": "code",
   "execution_count": 6,
   "metadata": {},
   "outputs": [
    {
     "name": "stdout",
     "output_type": "stream",
     "text": [
      "     Month  Day  N69\n",
      "1        1    2  159\n",
      "4        1    5  101\n",
      "8        1    9  194\n",
      "14       1   15   17\n",
      "15       1   16  121\n",
      "..     ...  ...  ...\n",
      "361     12   27   78\n",
      "362     12   28  123\n",
      "363     12   29   16\n",
      "364     12   30    3\n",
      "365     12   31  100\n",
      "\n",
      "[195 rows x 3 columns]\n"
     ]
    }
   ],
   "source": [
    "print(d1_drafted_only)"
   ]
  },
  {
   "attachments": {},
   "cell_type": "markdown",
   "metadata": {},
   "source": [
    "I also am curious to see which birhtdates faired best and worst in the draft. The following table shows the top and bottom 5 birth dates. If your birthdate is in the top 5 I'm sorry to say you would have been drafted."
   ]
  },
  {
   "cell_type": "code",
   "execution_count": 7,
   "metadata": {},
   "outputs": [
    {
     "name": "stdout",
     "output_type": "stream",
     "text": [
      "     Month  Day  N69\n",
      "257      9   14    1\n",
      "114      4   24    2\n",
      "364     12   30    3\n",
      "44       2   14    4\n",
      "291     10   18    5\n",
      "..     ...  ...  ...\n",
      "88       3   29  362\n",
      "51       2   21  363\n",
      "125      5    5  364\n",
      "56       2   26  365\n",
      "159      6    8  366\n",
      "\n",
      "[366 rows x 3 columns]\n"
     ]
    }
   ],
   "source": [
    "d1_bynum = draft1.sort_values('N69')\n",
    "print(d1_bynum)"
   ]
  },
  {
   "attachments": {},
   "cell_type": "markdown",
   "metadata": {},
   "source": [
    "Is your birthday not in the top or bottom five? Try looking it up below to see how you would have fared. The lightest color represents dates that were not called to the draft. If you see any other color, men born on that date were drafted. The darker the color, the lower the number."
   ]
  },
  {
   "cell_type": "code",
   "execution_count": 8,
   "metadata": {},
   "outputs": [
    {
     "name": "stderr",
     "output_type": "stream",
     "text": [
      "C:\\Users\\bdcha\\AppData\\Local\\Temp\\ipykernel_23264\\3167270283.py:1: FutureWarning: In a future version of pandas all arguments of DataFrame.pivot will be keyword-only.\n",
      "  draft_hm1 = draft1.pivot(\"Day\", \"Month\", 'N69')\n"
     ]
    },
    {
     "data": {
      "text/plain": [
       "<AxesSubplot: xlabel='Month', ylabel='Day'>"
      ]
     },
     "execution_count": 8,
     "metadata": {},
     "output_type": "execute_result"
    },
    {
     "data": {
      "image/png": "[encoded data removed]",
      "text/plain": [
       "<Figure size 640x480 with 2 Axes>"
      ]
     },
     "metadata": {},
     "output_type": "display_data"
    }
   ],
   "source": [
    "draft_hm1 = draft1.pivot(\"Day\", \"Month\", 'N69')\n",
    "sb.heatmap(draft_hm1, xticklabels='JFMAMJJASOND', vmax=195)"
   ]
  },
  {
   "attachments": {},
   "cell_type": "markdown",
   "metadata": {},
   "source": [
    "You have probably noticed by now that certainly months seem to have had more dates drawn than others. I will examine this further by creating a count of drafted dates in each month."
   ]
  },
  {
   "cell_type": "code",
   "execution_count": 9,
   "metadata": {},
   "outputs": [
    {
     "name": "stdout",
     "output_type": "stream",
     "text": [
      "Month\n",
      "1     14\n",
      "2     13\n",
      "3     10\n",
      "4     12\n",
      "5     14\n",
      "6     14\n",
      "7     18\n",
      "8     19\n",
      "9     19\n",
      "10    14\n",
      "11    22\n",
      "12    26\n",
      "Name: Month, dtype: int64\n"
     ]
    }
   ],
   "source": [
    "by_month = drafted_only.groupby(['Month'])['Month'].count()\n",
    "print(by_month)\n"
   ]
  },
  {
   "cell_type": "code",
   "execution_count": 10,
   "metadata": {},
   "outputs": [
    {
     "data": {
      "text/plain": [
       "<AxesSubplot: xlabel='Month', ylabel='count'>"
      ]
     },
     "execution_count": 10,
     "metadata": {},
     "output_type": "execute_result"
    },
    {
     "data": {
      "image/png": "[encoded data removed]",
      "text/plain": [
       "<Figure size 640x480 with 1 Axes>"
      ]
     },
     "metadata": {},
     "output_type": "display_data"
    }
   ],
   "source": [
    "sb.countplot(x=drafted_only['Month'], palette=('flare'))"
   ]
  },
  {
   "attachments": {},
   "cell_type": "markdown",
   "metadata": {},
   "source": [
    "You can clearly see in the above graph that dates that fall later in the year tend to have a higher draft count. 22 of a possible 30 dates in November were called, while December contains a staggering 26 out of a possible 31 drafted dates. The below chart shows the percentage of dates in december which were drafted versus those that were not."
   ]
  },
  {
   "cell_type": "code",
   "execution_count": 19,
   "metadata": {},
   "outputs": [
    {
     "data": {
      "text/plain": [
       "([<matplotlib.patches.Wedge at 0x1ab020226e0>,\n",
       "  <matplotlib.patches.Wedge at 0x1ab02022d70>],\n",
       " [Text(-0.9617812358395109, 0.5338322343087042, 'drafted'),\n",
       "  Text(0.9617811858585257, -0.53383232435716, 'not drafted')],\n",
       " [Text(-0.5246079468215513, 0.2911812187138386, '84%'),\n",
       "  Text(0.5246079195591958, -0.29118126783117815, '16%')])"
      ]
     },
     "execution_count": 19,
     "metadata": {},
     "output_type": "execute_result"
    },
    {
     "data": {
      "image/png": "[encoded data removed]",
      "text/plain": [
       "<Figure size 640x480 with 1 Axes>"
      ]
     },
     "metadata": {},
     "output_type": "display_data"
    }
   ],
   "source": [
    "pie_data = [26, 5]\n",
    "pie_labels = ['drafted', 'not drafted']\n",
    "pie_colors = sb.color_palette('deep')[0:5]\n",
    "plt.pie(pie_data, labels = pie_labels, colors = pie_colors, autopct = '%.0f%%')"
   ]
  },
  {
   "attachments": {},
   "cell_type": "markdown",
   "metadata": {},
   "source": [
    "Let's see if this trend is present in the other draft lotteries. I have prepared the data below to count the dates called to the draft in each month based on the amount of drafted dates picked each year. Because no drafts were made in 1972 I will instead count those that were called in the first 95 draws."
   ]
  },
  {
   "cell_type": "code",
   "execution_count": 17,
   "metadata": {},
   "outputs": [],
   "source": [
    "draft70=draft_data[draft_data['N70'] <= 125]\n",
    "\n",
    "draft71=draft_data[draft_data['N71'] <= 95]\n",
    "\n",
    "draft72=draft_data[draft_data['N72'] <= 95]"
   ]
  },
  {
   "cell_type": "code",
   "execution_count": 76,
   "metadata": {},
   "outputs": [
    {
     "data": {
      "text/plain": [
       "<AxesSubplot: xlabel='Month', ylabel='count'>"
      ]
     },
     "execution_count": 76,
     "metadata": {},
     "output_type": "execute_result"
    },
    {
     "data": {
      "image/png": "[encoded data removed]",
      "text/plain": [
       "<Figure size 640x480 with 1 Axes>"
      ]
     },
     "metadata": {},
     "output_type": "display_data"
    }
   ],
   "source": [
    "sb.countplot(x=draft70['Month'], palette=('flare'))"
   ]
  },
  {
   "cell_type": "code",
   "execution_count": 77,
   "metadata": {},
   "outputs": [
    {
     "data": {
      "text/plain": [
       "<AxesSubplot: xlabel='Month', ylabel='count'>"
      ]
     },
     "execution_count": 77,
     "metadata": {},
     "output_type": "execute_result"
    },
    {
     "data": {
      "image/png": "[encoded data removed]",
      "text/plain": [
       "<Figure size 640x480 with 1 Axes>"
      ]
     },
     "metadata": {},
     "output_type": "display_data"
    }
   ],
   "source": [
    "sb.countplot(x=draft71['Month'], palette=('flare'))"
   ]
  },
  {
   "cell_type": "code",
   "execution_count": 78,
   "metadata": {},
   "outputs": [
    {
     "data": {
      "text/plain": [
       "<AxesSubplot: xlabel='Month', ylabel='count'>"
      ]
     },
     "execution_count": 78,
     "metadata": {},
     "output_type": "execute_result"
    },
    {
     "data": {
      "image/png": "[encoded data removed]",
      "text/plain": [
       "<Figure size 640x480 with 1 Axes>"
      ]
     },
     "metadata": {},
     "output_type": "display_data"
    }
   ],
   "source": [
    "sb.countplot(x=draft72['Month'], palette=('flare'))"
   ]
  },
  {
   "attachments": {},
   "cell_type": "markdown",
   "metadata": {},
   "source": [
    "While the 1970 draft still shows a slightly higher number of draws in later months the data seems far more random than the data from the 1969 lottery. It's unclear why this bias would exist in the first draft lottery, however the data seems to suggest that those born at the beginnning of the month were less likely to be called ot the draft than those born in later months."
   ]
  }
 ],
 "metadata": {
  "kernelspec": {
   "display_name": "Python 3",
   "language": "python",
   "name": "python3"
  },
  "language_info": {
   "codemirror_mode": {
    "name": "ipython",
    "version": 3
   },
   "file_extension": ".py",
   "mimetype": "text/x-python",
   "name": "python",
   "nbconvert_exporter": "python",
   "pygments_lexer": "ipython3",
   "version": "3.10.8"
  },
  "orig_nbformat": 4,
  "vscode": {
   "interpreter": {
    "hash": "c3ae2b306c5dc690ade0d1aeb29ac51655dd0f579e5743aa878fcc724c625822"
   }
  }
 },
 "nbformat": 4,
 "nbformat_minor": 2
}
